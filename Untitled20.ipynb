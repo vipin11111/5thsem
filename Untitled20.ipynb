{
 "cells": [
  {
   "cell_type": "code",
   "execution_count": 8,
   "id": "e30f33f2",
   "metadata": {},
   "outputs": [
    {
     "name": "stdout",
     "output_type": "stream",
     "text": [
      "Original DataFrame:\n",
      "    A   B\n",
      "0  10  15\n",
      "1  40   5\n",
      "2  99   6\n",
      "3  35   5\n",
      "4  25   3\n",
      "\n",
      "DataFrame after Rank Transformation:\n",
      "     A    B\n",
      "0  1.0  5.0\n",
      "1  4.0  2.5\n",
      "2  5.0  4.0\n",
      "3  3.0  2.5\n",
      "4  2.0  1.0\n"
     ]
    }
   ],
   "source": [
    "import pandas as pd\n",
    "\n",
    "# Sample DataFrame\n",
    "data = {'A': [10, 40, 99, 35, 25],\n",
    "        'B': [15, 5, 6, 5, 3]}\n",
    "df = pd.DataFrame(data)\n",
    "\n",
    "# Rank transformation\n",
    "df_rank = df.rank()\n",
    "\n",
    "print(\"Original DataFrame:\")\n",
    "print(df)\n",
    "\n",
    "print(\"\\nDataFrame after Rank Transformation:\")\n",
    "print(df_rank)\n"
   ]
  },
  {
   "cell_type": "code",
   "execution_count": null,
   "id": "5e88d98b",
   "metadata": {},
   "outputs": [],
   "source": []
  }
 ],
 "metadata": {
  "kernelspec": {
   "display_name": "Python 3 (ipykernel)",
   "language": "python",
   "name": "python3"
  },
  "language_info": {
   "codemirror_mode": {
    "name": "ipython",
    "version": 3
   },
   "file_extension": ".py",
   "mimetype": "text/x-python",
   "name": "python",
   "nbconvert_exporter": "python",
   "pygments_lexer": "ipython3",
   "version": "3.11.3"
  }
 },
 "nbformat": 4,
 "nbformat_minor": 5
}
