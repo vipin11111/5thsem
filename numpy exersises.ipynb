{
 "cells": [
  {
   "cell_type": "code",
   "execution_count": 8,
   "id": "2d0b7b56",
   "metadata": {},
   "outputs": [
    {
     "name": "stdout",
     "output_type": "stream",
     "text": [
      "['bread', 'milk', 'egg', 'butter', 'cocoa']\n",
      "[78, 47, 96, 55, 34]\n",
      "[1, 2, 3.0, 'text', True, (3+2j)]\n"
     ]
    }
   ],
   "source": [
    "item_list=['bread','milk','egg','butter','cocoa']\n",
    "student_marks = [78,47,96,55,34]\n",
    "hetero_list = [1,2,3.0, 'text',True,3+2j]\n",
    "print(item_list)\n",
    "print(student_marks)\n",
    "print(hetero_list)"
   ]
  },
  {
   "cell_type": "code",
   "execution_count": 9,
   "id": "32a9ac02",
   "metadata": {},
   "outputs": [
    {
     "name": "stdout",
     "output_type": "stream",
     "text": [
      "[83, 52, 101, 60, 39]\n"
     ]
    }
   ],
   "source": [
    "student_marks = [78,47,96,55,34]\n",
    "for i in range(len(student_marks)):\n",
    "    student_marks[i]+=5\n",
    "print(student_marks)"
   ]
  },
  {
   "cell_type": "code",
   "execution_count": 10,
   "id": "4b5cfcff",
   "metadata": {},
   "outputs": [
    {
     "name": "stdout",
     "output_type": "stream",
     "text": [
      "CPU times: total: 453 ms\n",
      "Wall time: 642 ms\n"
     ]
    }
   ],
   "source": [
    "%%time\n",
    "list1 = list(range(1,1000000))\n",
    "list2 = list(range(2,1000001))\n",
    "list3 = []\n",
    "for i in range (len(list1)):\n",
    "    list3.append(list1[i]+list2[i])"
   ]
  },
  {
   "cell_type": "code",
   "execution_count": 16,
   "id": "2ac980f3",
   "metadata": {},
   "outputs": [
    {
     "name": "stdout",
     "output_type": "stream",
     "text": [
      "CPU times: total: 0 ns\n",
      "Wall time: 10.2 ms\n"
     ]
    }
   ],
   "source": [
    "%%time\n",
    "import numpy as np\n",
    "a = np.arange(1,1000000)\n",
    "b = np.arange(2,1000001)\n",
    "c = a+b\n"
   ]
  },
  {
   "cell_type": "code",
   "execution_count": 17,
   "id": "0c8ae95f",
   "metadata": {},
   "outputs": [
    {
     "data": {
      "text/plain": [
       "array([[ 18,  15,  18,  16,  17],\n",
       "       [130, 165, 150, 150, 140],\n",
       "       [307, 350, 318, 304, 302]])"
      ]
     },
     "execution_count": 17,
     "metadata": {},
     "output_type": "execute_result"
    }
   ],
   "source": [
    "car_attributes = [[18, 15, 18, 16, 17],[130, 165, 150, 150, 140],[307, 350, 318, 304, 302]]\n",
    "car_attributes_arr = np.array(car_attributes)\n",
    "car_attributes_arr\n"
   ]
  },
  {
   "cell_type": "code",
   "execution_count": 18,
   "id": "1a4e9fcf",
   "metadata": {},
   "outputs": [
    {
     "data": {
      "text/plain": [
       "(3, 5)"
      ]
     },
     "execution_count": 18,
     "metadata": {},
     "output_type": "execute_result"
    }
   ],
   "source": [
    "car_attributes = [[18, 15, 18, 16, 17],[130, 165, 150, 150, 140],[307, 350, 318, 304, 302]]\n",
    "car_attributes_arr = np.array(car_attributes)\n",
    "car_attributes_arr.shape\n"
   ]
  },
  {
   "cell_type": "code",
   "execution_count": 20,
   "id": "40a2ce66",
   "metadata": {},
   "outputs": [
    {
     "name": "stdout",
     "output_type": "stream",
     "text": [
      "[[ 18.  15.  18.  16.  17.]\n",
      " [130. 165. 150. 150. 140.]\n",
      " [307. 350. 318. 304. 302.]]\n",
      "float64\n"
     ]
    }
   ],
   "source": [
    "car_attributes = [[18, 15, 18, 16, 17],[130, 165, 150, 150, 140],[307, 350, 318, 304, 302]] \n",
    "car_attributes_arr = np.array(car_attributes, dtype = 'float')\n",
    "print(car_attributes_arr)\n",
    "print(car_attributes_arr.dtype)\n"
   ]
  },
  {
   "cell_type": "code",
   "execution_count": 4,
   "id": "9b30ff61",
   "metadata": {},
   "outputs": [
    {
     "ename": "SyntaxError",
     "evalue": "incomplete input (2439566273.py, line 2)",
     "output_type": "error",
     "traceback": [
      "\u001b[1;36m  Cell \u001b[1;32mIn[4], line 2\u001b[1;36m\u001b[0m\n\u001b[1;33m    cars[1\u001b[0m\n\u001b[1;37m          ^\u001b[0m\n\u001b[1;31mSyntaxError\u001b[0m\u001b[1;31m:\u001b[0m incomplete input\n"
     ]
    }
   ],
   "source": [
    "cars = np.array(['chevrolet chevelle malibu', 'buick skylark 320', 'plymouth satellite', 'amc rebel sst', 'ford torino'])\n",
    "cars[1\n"
   ]
  },
  {
   "cell_type": "code",
   "execution_count": 5,
   "id": "698f131f",
   "metadata": {},
   "outputs": [
    {
     "name": "stdout",
     "output_type": "stream",
     "text": [
      "buick skylark 320\n"
     ]
    }
   ],
   "source": [
    "import numpy as np\n",
    "\n",
    "cars = np.array(['chevrolet chevelle malibu', 'buick skylark 320', 'plymouth satellite', 'amc rebel sst', 'ford torino'])\n",
    "\n",
    "# Accessing the second car from the array (remember that indexing is 0-based)\n",
    "second_car = cars[1]\n",
    "print(second_car)\n"
   ]
  },
  {
   "cell_type": "code",
   "execution_count": 6,
   "id": "a9fae6cd",
   "metadata": {},
   "outputs": [
    {
     "data": {
      "text/plain": [
       "array([['chevrolet chevelle malibu', 'buick skylark 320',\n",
       "        'plymouth satellite', 'amc rebel sst', 'ford torino'],\n",
       "       ['130', '165', '150', '150', '140']], dtype='<U25')"
      ]
     },
     "execution_count": 6,
     "metadata": {},
     "output_type": "execute_result"
    }
   ],
   "source": [
    "\n",
    "car_names = ['chevrolet chevelle malibu', 'buick skylark 320', 'plymouth satellite', 'amc rebel sst', 'ford torino']\n",
    "horsepower = [130, 165, 150, 150, 140]\n",
    "car_hp_arr = np.array([car_names, horsepower])\n",
    "car_hp_arr\n"
   ]
  },
  {
   "cell_type": "code",
   "execution_count": 7,
   "id": "ebfec658",
   "metadata": {},
   "outputs": [
    {
     "data": {
      "text/plain": [
       "array(['chevrolet chevelle malibu', 'buick skylark 320',\n",
       "       'plymouth satellite', 'amc rebel sst', 'ford torino'], dtype='<U25')"
      ]
     },
     "execution_count": 7,
     "metadata": {},
     "output_type": "execute_result"
    }
   ],
   "source": [
    "car_names = ['chevrolet chevelle malibu', 'buick skylark 320', 'plymouth satellite', 'amc rebel sst', 'ford torino']\n",
    "horsepower = [130, 165, 150, 150, 140]\n",
    "car_hp_arr = np.array([car_names, horsepower])\n",
    "car_hp_arr[0]\n"
   ]
  },
  {
   "cell_type": "code",
   "execution_count": 8,
   "id": "30ff6845",
   "metadata": {},
   "outputs": [
    {
     "data": {
      "text/plain": [
       "'ford torino'"
      ]
     },
     "execution_count": 8,
     "metadata": {},
     "output_type": "execute_result"
    }
   ],
   "source": [
    "car_names = ['chevrolet chevelle malibu', 'buick skylark 320', 'plymouth satellite', 'amc rebel sst', 'ford torino']\n",
    "horsepower = [130, 165, 150, 150, 140]\n",
    "car_hp_arr = np.array([car_names, horsepower])\n",
    "car_hp_arr[0,-1]\n"
   ]
  },
  {
   "cell_type": "code",
   "execution_count": 9,
   "id": "2ebd3747",
   "metadata": {},
   "outputs": [
    {
     "data": {
      "text/plain": [
       "array(['buick skylark 320', 'plymouth satellite', 'amc rebel sst',\n",
       "       'ford torino'], dtype='<U25')"
      ]
     },
     "execution_count": 9,
     "metadata": {},
     "output_type": "execute_result"
    }
   ],
   "source": [
    "cars = np.array(['chevrolet chevelle malibu', 'buick skylark 320', 'plymouth satellite', 'amc rebel sst', 'ford torino'])\n",
    "#accessing a subset of cars from the array\n",
    "cars[1:5]\n"
   ]
  },
  {
   "cell_type": "code",
   "execution_count": 10,
   "id": "1b59a23f",
   "metadata": {},
   "outputs": [
    {
     "data": {
      "text/plain": [
       "array([['chevrolet chevelle malibu', 'buick skylark 320',\n",
       "        'plymouth satellite', 'amc rebel sst', 'ford torino'],\n",
       "       ['130', '165', '150', '150', '140'],\n",
       "       ['18', '15', '18', '16', '17']], dtype='<U25')"
      ]
     },
     "execution_count": 10,
     "metadata": {},
     "output_type": "execute_result"
    }
   ],
   "source": [
    "car_names = ['chevrolet chevelle malibu', 'buick skylark 320', 'plymouth satellite', 'amc rebel sst', 'ford torino']\n",
    "horsepower = [130, 165, 150, 150, 140]\n",
    "acceleration = [18, 15, 18, 16, 17]\n",
    "car_hp_acc_arr = np.array([car_names, horsepower, acceleration])\n",
    "car_hp_acc_arr\n"
   ]
  },
  {
   "cell_type": "code",
   "execution_count": 11,
   "id": "85309671",
   "metadata": {},
   "outputs": [
    {
     "data": {
      "text/plain": [
       "array([['chevrolet chevelle malibu', 'buick skylark 320',\n",
       "        'plymouth satellite', 'amc rebel sst', 'ford torino'],\n",
       "       ['130', '165', '150', '150', '140']], dtype='<U25')"
      ]
     },
     "execution_count": 11,
     "metadata": {},
     "output_type": "execute_result"
    }
   ],
   "source": [
    "car_names = ['chevrolet chevelle malibu', 'buick skylark 320', 'plymouth satellite', 'amc rebel sst', 'ford torino']\n",
    "horsepower = [130, 165, 150, 150, 140]\n",
    "acceleration = [18, 15, 18, 16, 17]\n",
    "car_hp_acc_arr = np.array([car_names, horsepower, acceleration])\n",
    "car_hp_acc_arr[0:2]\n"
   ]
  },
  {
   "cell_type": "code",
   "execution_count": 12,
   "id": "b8de1ce4",
   "metadata": {},
   "outputs": [
    {
     "data": {
      "text/plain": [
       "array([['amc rebel sst', 'ford torino'],\n",
       "       ['150', '140']], dtype='<U25')"
      ]
     },
     "execution_count": 12,
     "metadata": {},
     "output_type": "execute_result"
    }
   ],
   "source": [
    "car_names = ['chevrolet chevelle malibu', 'buick skylark 320', 'plymouth satellite', 'amc rebel sst', 'ford torino']\n",
    "horsepower = [130, 165, 150, 150, 140]\n",
    "acceleration = [18, 15, 18, 16, 17]\n",
    "car_hp_acc_arr = np.array([car_names, horsepower, acceleration])\n",
    "car_hp_acc_arr[0:2, 3:5]\n"
   ]
  },
  {
   "cell_type": "code",
   "execution_count": 19,
   "id": "86981d77",
   "metadata": {},
   "outputs": [
    {
     "data": {
      "text/plain": [
       "array([['ford torino'],\n",
       "       ['140'],\n",
       "       ['17']], dtype='<U25')"
      ]
     },
     "execution_count": 19,
     "metadata": {},
     "output_type": "execute_result"
    }
   ],
   "source": [
    "car_names = ['chevrolet chevelle malibu', 'buick skylark 320', 'plymouth satellite', 'amc rebel sst', 'ford torino']\n",
    "horsepower = [130, 165, 150, 150, 140]\n",
    "acceleration = [18, 15, 18, 16, 17]\n",
    "car_hp_acc_arr = np.array([car_names, horsepower, acceleration])\n",
    "car_hp_acc_arr[0:3, 4:5]\n"
   ]
  },
  {
   "cell_type": "code",
   "execution_count": null,
   "id": "5990ffd9",
   "metadata": {},
   "outputs": [],
   "source": [
    "#Creating a 2D array consisting car names, horsepower and acceleration\n",
    "car_names = ['chevrolet chevelle malibu', 'buick skylark 320', 'plymouth satellite', 'amc rebel sst', 'ford torino']\n",
    "horsepower = [130, 165, 150, 150, 140]\n",
    "acceleration = [18, 15, 18, 16, 17]\n",
    "car_hp_acc_arr = np.array([car_names, horsepower, acceleration])\n",
    "#Accessing name, horsepower and acceleration of first three cars\n",
    "car_hp_acc_arr[0:3, 0:3]\n"
   ]
  },
  {
   "cell_type": "code",
   "execution_count": 21,
   "id": "e3aa57dd",
   "metadata": {},
   "outputs": [
    {
     "name": "stdout",
     "output_type": "stream",
     "text": [
      "Mean horsepower =  120.0\n"
     ]
    }
   ],
   "source": [
    "horsepower = [130,165,150,15,140]\n",
    "horsepower_arr = np.array(horsepower)\n",
    "print(\"Mean horsepower = \",np.mean(horsepower_arr))"
   ]
  },
  {
   "cell_type": "code",
   "execution_count": 23,
   "id": "3d4836fe",
   "metadata": {},
   "outputs": [
    {
     "name": "stdout",
     "output_type": "stream",
     "text": [
      "median horsepower =  150.0\n"
     ]
    }
   ],
   "source": [
    "horsepower = [130,165,150,150,140]\n",
    "horsepower_arr = np.array(horsepower)\n",
    "print(\"median horsepower = \",np.median(horsepower_arr))"
   ]
  },
  {
   "cell_type": "code",
   "execution_count": 24,
   "id": "3771cf40",
   "metadata": {},
   "outputs": [
    {
     "data": {
      "text/plain": [
       "147.0"
      ]
     },
     "execution_count": 24,
     "metadata": {},
     "output_type": "execute_result"
    }
   ],
   "source": [
    "horsepower_arr=np.array([130,165,150,150,140])\n",
    "mean_arr=np.mean(horsepower_arr)\n",
    "mean_arr"
   ]
  },
  {
   "cell_type": "code",
   "execution_count": 25,
   "id": "05f42d42",
   "metadata": {},
   "outputs": [
    {
     "data": {
      "text/plain": [
       "150.0"
      ]
     },
     "execution_count": 25,
     "metadata": {},
     "output_type": "execute_result"
    }
   ],
   "source": [
    "horsepower_arr=np.array([130,165,150,150,140])\n",
    "median_arr=np.median(horsepower_arr)\n",
    "median_arr"
   ]
  },
  {
   "cell_type": "code",
   "execution_count": 28,
   "id": "fbb0635a",
   "metadata": {},
   "outputs": [
    {
     "name": "stdout",
     "output_type": "stream",
     "text": [
      "130\n",
      "165\n"
     ]
    }
   ],
   "source": [
    "\n",
    "\n",
    "\n",
    "horsepower_arr = np.array([130, 165, 150, 150, 140])\n",
    "Minimum_arr =np.min(horsepower_arr)\n",
    "Maximum_arr =np.max(horsepower_arr)\n",
    "print(Minimum_arr)\n",
    "print(Maximum_arr)"
   ]
  },
  {
   "cell_type": "code",
   "execution_count": 7,
   "id": "f7a08087",
   "metadata": {},
   "outputs": [
    {
     "name": "stdout",
     "output_type": "stream",
     "text": [
      "[[   1 6012]\n",
      " [   2 7079]\n",
      " [   3 6886]\n",
      " [   4 7230]\n",
      " [   5 4598]\n",
      " [   6 5564]\n",
      " [   7 6971]\n",
      " [   8 7763]\n",
      " [   9 8032]\n",
      " [  10 9569]]\n",
      "[[    1  8012]\n",
      " [    2  9079]\n",
      " [    3  8886]\n",
      " [    4  9230]\n",
      " [    5  6598]\n",
      " [    6  7564]\n",
      " [    7  8971]\n",
      " [    8  9763]\n",
      " [    9 10032]\n",
      " [   10 11569]]\n",
      "[[    2  9079]\n",
      " [    4  9230]\n",
      " [    8  9763]\n",
      " [    9 10032]\n",
      " [   10 11569]]\n",
      "[[    1  8012]\n",
      " [    2  9079]\n",
      " [    3  8886]\n",
      " [    4  9230]\n",
      " [    5  6598]\n",
      " [    6  7564]\n",
      " [    7  8971]\n",
      " [    8  9763]\n",
      " [    9 10032]\n",
      " [   10 11569]]\n"
     ]
    }
   ],
   "source": [
    "import numpy as np\n",
    "stepwalked=np.array([[1,6012],[2,7079],[3,6886],[4,7230,],[5,4598],[6,5564],[7,6971],[8,7763],[9,8032],[10,9569]])\n",
    "\n",
    "steps=([[6012],[7079],[6886],[7230,],[4598],[5564],[6971],[7763],[8032],[9569]])\n",
    "print(stepwalked)\n",
    "\n",
    "averagesteps=([0,2000])\n",
    "totalsteps=np.add(stepwalked,averagesteps)\n",
    "print(totalsteps)\n",
    "\n",
    "x=np.where(totalsteps[:,1] > 9000)\n",
    "print(totalsteps[x])\n",
    "sort=np.sort(totalsteps)\n",
    "print(sort)"
   ]
  },
  {
   "cell_type": "code",
   "execution_count": 8,
   "id": "d7ecb92f",
   "metadata": {},
   "outputs": [
    {
     "name": "stdout",
     "output_type": "stream",
     "text": [
      "Steps walked more than 9000: [[    2  9079]\n",
      " [    4  9230]\n",
      " [    8  9763]\n",
      " [    9 10032]\n",
      " [   10 11569]]\n",
      "Sorted steps walked: [ 6598  7564  8012  8886  8971  9079  9230  9763 10032 11569]\n"
     ]
    }
   ],
   "source": [
    "import numpy as np\n",
    "\n",
    "stepwalked = np.array([[1, 6012], [2, 7079], [3, 6886], [4, 7230], [5, 4598], [6, 5564], [7, 6971], [8, 7763], [9, 8032], [10, 9569]])\n",
    "\n",
    "# Adding 2000 steps after 7 pm\n",
    "average_steps = np.array([0, 2000])\n",
    "total_steps = stepwalked + average_steps\n",
    "\n",
    "# Filtering and printing steps walked more than 9000\n",
    "steps_above_9000 = total_steps[total_steps[:, 1] > 9000]\n",
    "print(\"Steps walked more than 9000:\", steps_above_9000)\n",
    "\n",
    "# Sorting the steps walked in ascending order\n",
    "sorted_steps = np.sort(total_steps[:, 1])\n",
    "print(\"Sorted steps walked:\", sorted_steps)\n"
   ]
  },
  {
   "cell_type": "code",
   "execution_count": 12,
   "id": "fa73a03b",
   "metadata": {},
   "outputs": [
    {
     "name": "stdout",
     "output_type": "stream",
     "text": [
      "[[   1 6012]\n",
      " [   2 7079]\n",
      " [   3 6886]\n",
      " [   4 7230]\n",
      " [   5 4598]\n",
      " [   6 5564]\n",
      " [   7 6971]\n",
      " [   8 7763]\n",
      " [   9 8032]\n",
      " [  10 9569]]\n",
      "[[    1  8012]\n",
      " [    2  9079]\n",
      " [    3  8886]\n",
      " [    4  9230]\n",
      " [    5  6598]\n",
      " [    6  7564]\n",
      " [    7  8971]\n",
      " [    8  9763]\n",
      " [    9 10032]\n",
      " [   10 11569]]\n",
      "[[    2  9079]\n",
      " [    4  9230]\n",
      " [    8  9763]\n",
      " [    9 10032]\n",
      " [   10 11569]]\n",
      "Sorted steps walked:\n",
      " [[ 6598]\n",
      " [ 7564]\n",
      " [ 8012]\n",
      " [ 8886]\n",
      " [ 8971]\n",
      " [ 9079]\n",
      " [ 9230]\n",
      " [ 9763]\n",
      " [10032]\n",
      " [11569]]\n"
     ]
    }
   ],
   "source": [
    "import numpy as np\n",
    "stepwalked=np.array([[1,6012],[2,7079],[3,6886],[4,7230,],[5,4598],[6,5564],[7,6971],[8,7763],[9,8032],[10,9569]])\n",
    "\n",
    "steps=([[6012],[7079],[6886],[7230,],[4598],[5564],[6971],[7763],[8032],[9569]])\n",
    "print(stepwalked)\n",
    "\n",
    "averagesteps=([0,2000])\n",
    "totalsteps=np.add(stepwalked,averagesteps)\n",
    "print(totalsteps)\n",
    "\n",
    "x=np.where(totalsteps[:,1] > 9000)\n",
    "print(totalsteps[x])\n",
    "\n",
    "sorted_steps = np.sort(total_steps[:, 1])\n",
    "sorted_steps_column = sorted_steps.reshape(-1, 1)\n",
    "print(\"Sorted steps walked:\\n\", sorted_steps_column)\n"
   ]
  },
  {
   "cell_type": "code",
   "execution_count": 7,
   "id": "cc78c42f",
   "metadata": {},
   "outputs": [
    {
     "name": "stdout",
     "output_type": "stream",
     "text": [
      "[[   1 6012]\n",
      " [   2 7079]\n",
      " [   3 6886]\n",
      " [   4 7230]\n",
      " [   5 4598]\n",
      " [   6 5564]\n",
      " [   7 6971]\n",
      " [   8 7763]\n",
      " [   9 8032]\n",
      " [  10 9569]]\n",
      "[[    1  8012]\n",
      " [    2  9079]\n",
      " [    3  8886]\n",
      " [    4  9230]\n",
      " [    5  6598]\n",
      " [    6  7564]\n",
      " [    7  8971]\n",
      " [    8  9763]\n",
      " [    9 10032]\n",
      " [   10 11569]]\n",
      "[[    2  9079]\n",
      " [    4  9230]\n",
      " [    8  9763]\n",
      " [    9 10032]\n",
      " [   10 11569]]\n"
     ]
    },
    {
     "data": {
      "text/plain": [
       "array([[    5,  6598],\n",
       "       [    6,  7564],\n",
       "       [    1,  8012],\n",
       "       [    3,  8886],\n",
       "       [    7,  8971],\n",
       "       [    2,  9079],\n",
       "       [    4,  9230],\n",
       "       [    8,  9763],\n",
       "       [    9, 10032],\n",
       "       [   10, 11569]])"
      ]
     },
     "execution_count": 7,
     "metadata": {},
     "output_type": "execute_result"
    }
   ],
   "source": [
    "import numpy as np\n",
    "stepwalked=np.array([[1,6012],[2,7079],[3,6886],[4,7230,],[5,4598],[6,5564],[7,6971],[8,7763],[9,8032],[10,9569]])\n",
    "\n",
    "steps=([[6012],[7079],[6886],[7230,],[4598],[5564],[6971],[7763],[8032],[9569]])\n",
    "print(stepwalked)\n",
    "\n",
    "averagesteps=([0,2000])\n",
    "totalsteps=np.add(stepwalked,averagesteps)\n",
    "print(totalsteps)\n",
    "\n",
    "x=np.where(totalsteps[:,1] > 9000)\n",
    "print(totalsteps[x])\n",
    "\n",
    "cc = totalsteps[:,1].argsort()\n",
    "totalsteps[cc]"
   ]
  },
  {
   "cell_type": "code",
   "execution_count": null,
   "id": "f60e66c7",
   "metadata": {},
   "outputs": [],
   "source": []
  }
 ],
 "metadata": {
  "kernelspec": {
   "display_name": "Python 3 (ipykernel)",
   "language": "python",
   "name": "python3"
  },
  "language_info": {
   "codemirror_mode": {
    "name": "ipython",
    "version": 3
   },
   "file_extension": ".py",
   "mimetype": "text/x-python",
   "name": "python",
   "nbconvert_exporter": "python",
   "pygments_lexer": "ipython3",
   "version": "3.11.3"
  }
 },
 "nbformat": 4,
 "nbformat_minor": 5
}
