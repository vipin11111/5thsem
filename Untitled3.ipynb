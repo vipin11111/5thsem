{
 "cells": [
  {
   "cell_type": "code",
   "execution_count": 3,
   "id": "48a5582c",
   "metadata": {},
   "outputs": [
    {
     "name": "stdout",
     "output_type": "stream",
     "text": [
      "(array([1, 2, 3], dtype=int64),)\n",
      "[165 150 150]\n"
     ]
    }
   ],
   "source": [
    "import numpy as np \n",
    "hr_array=np.array([130,165,150,150,140])\n",
    "x=np.where(hr_array>=150)\n",
    "print(x)\n",
    "print(hr_array[x])"
   ]
  },
  {
   "cell_type": "code",
   "execution_count": null,
   "id": "4cf0515a",
   "metadata": {},
   "outputs": [],
   "source": []
  }
 ],
 "metadata": {
  "kernelspec": {
   "display_name": "Python 3 (ipykernel)",
   "language": "python",
   "name": "python3"
  },
  "language_info": {
   "codemirror_mode": {
    "name": "ipython",
    "version": 3
   },
   "file_extension": ".py",
   "mimetype": "text/x-python",
   "name": "python",
   "nbconvert_exporter": "python",
   "pygments_lexer": "ipython3",
   "version": "3.11.3"
  }
 },
 "nbformat": 4,
 "nbformat_minor": 5
}
