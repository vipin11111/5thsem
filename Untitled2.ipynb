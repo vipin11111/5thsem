{
 "cells": [
  {
   "cell_type": "code",
   "execution_count": 8,
   "id": "11d4851a",
   "metadata": {},
   "outputs": [
    {
     "name": "stdout",
     "output_type": "stream",
     "text": [
      "['bread', 'milk', 'egg', 'butter', 'cocoa']\n",
      "[78, 47, 96, 55, 34]\n",
      "[1, 2, 3.0, 'text', True, (3+2j)]\n"
     ]
    }
   ],
   "source": [
    "item_list=['bread','milk','egg','butter','cocoa']\n",
    "student_marks = [78,47,96,55,34]\n",
    "hetero_list = [1,2,3.0, 'text',True,3+2j]\n",
    "print(item_list)\n",
    "print(student_marks)\n",
    "print(hetero_list)"
   ]
  },
  {
   "cell_type": "code",
   "execution_count": null,
   "id": "85422cde",
   "metadata": {},
   "outputs": [],
   "source": [
    "student_marks = [78,47,96,55,34]\n",
    "for i in range(len(student_marks)):\n",
    "    student_marks[i]+=5\n",
    "print(student_marks)"
   ]
  }
 ],
 "metadata": {
  "kernelspec": {
   "display_name": "Python 3 (ipykernel)",
   "language": "python",
   "name": "python3"
  },
  "language_info": {
   "codemirror_mode": {
    "name": "ipython",
    "version": 3
   },
   "file_extension": ".py",
   "mimetype": "text/x-python",
   "name": "python",
   "nbconvert_exporter": "python",
   "pygments_lexer": "ipython3",
   "version": "3.11.3"
  }
 },
 "nbformat": 4,
 "nbformat_minor": 5
}
