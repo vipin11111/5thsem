{
 "cells": [
  {
   "cell_type": "code",
   "execution_count": 1,
   "id": "5b2c0ae6",
   "metadata": {},
   "outputs": [],
   "source": [
    "item_list = ['Bread', 'Milk', 'Eggs', 'Butter', 'Cocoa']\n",
    "student_marks = [78, 47, 96, 55, 34]\n",
    "hetero_list =  [ 1,2,3.0, 'text', True, 3+2j ]"
   ]
  },
  {
   "cell_type": "code",
   "execution_count": 2,
   "id": "b75e836c",
   "metadata": {},
   "outputs": [],
   "source": [
    "student_marks = [78, 47, 96, 55, 34]\n",
    "for i in range(len(student_marks)):\n",
    "    student_marks[i]+=5\n",
    "print(student_marks)"
   ]
  },
  {
   "cell_type": "code",
   "execution_count": 3,
   "id": "f92596a4",
   "metadata": {},
   "outputs": [],
   "source": [
    "%%time\n",
    "#Used to calculate total operation time\n",
    "list1 = list(range(1,1000000))\n",
    "list2 = list(range(2,1000001))\n",
    "list3 = []\n",
    "for i in range(len(list1)):\n",
    "    list3.append(list1[i]+list2[i])"
   ]
  },
  {
   "cell_type": "code",
   "execution_count": 4,
   "id": "0d9e7abf",
   "metadata": {},
   "outputs": [],
   "source": [
    "%%time\n",
    "#Used to calculate total operation time\n",
    "#Importing Numpy\n",
    "import numpy as np\n",
    "#Creating a numpy array of 1 million numbers\n",
    "a = np.arange(1,1000000)\n",
    "b = np.arange(2,1000001)\n",
    "c = a+b"
   ]
  },
  {
   "cell_type": "code",
   "execution_count": 5,
   "id": "e4942f03",
   "metadata": {},
   "outputs": [],
   "source": [
    "#creating a list of lists of 5 mpg, horsepower and acceleration values\n",
    "car_attributes = [[18, 15, 18, 16, 17],[130, 165, 150, 150, 140],[307, 350, 318, 304, 302]]\n",
    "#creating a numpy array from car_attributes list\n",
    "car_attributes_arr = np.array(car_attributes)\n",
    "car_attributes_arr"
   ]
  },
  {
   "cell_type": "code",
   "execution_count": 6,
   "id": "1bc3659f",
   "metadata": {},
   "outputs": [],
   "source": [
    "#creating a list of lists of  mpg, horsepower and acceleration values\n",
    "car_attributes = [[18, 15, 18, 16, 17],[130, 165, 150, 150, 140],[307, 350, 318, 304, 302]]\n",
    "#creating a numpy array from attributes list\n",
    "car_attributes_arr = np.array(car_attributes)\n",
    "car_attributes_arr.shape"
   ]
  },
  {
   "cell_type": "code",
   "execution_count": 7,
   "id": "03f01f1d",
   "metadata": {},
   "outputs": [],
   "source": [
    "#creating a list of lists of 5 mpg, horsepower and acceleration values\n",
    "car_attributes = [[18, 15, 18, 16, 17],[130, 165, 150, 150, 140],[307, 350, 318, 304, 302]]\n",
    "#creating a numpy array from attributes list\n",
    "car_attributes_arr = np.array(car_attributes)\n",
    "car_attributes_arr.dtype"
   ]
  },
  {
   "cell_type": "code",
   "execution_count": 8,
   "id": "81a39f3e",
   "metadata": {},
   "outputs": [],
   "source": [
    "#creating a list of lists of 5 mpg, horsepower and acceleration values\n",
    "car_attributes = [[18, 15, 18, 16, 17],[130, 165, 150, 150, 140],[307, 350, 318, 304, 302]]\n",
    "#converting dtype\n",
    "car_attributes_arr = np.array(car_attributes, dtype = 'float')\n",
    "print(car_attributes_arr)\n",
    "print(car_attributes_arr.dtype)"
   ]
  },
  {
   "cell_type": "code",
   "execution_count": 9,
   "id": "b60b3210",
   "metadata": {},
   "outputs": [],
   "source": [
    "#creating an array of cars\n",
    "cars = np.array(['chevrolet chevelle malibu', 'buick skylark 320', 'plymouth satellite', 'amc rebel sst', 'ford torino'])\n",
    "#accessing the second car from the array\n",
    "cars[1]"
   ]
  },
  {
   "cell_type": "code",
   "execution_count": 10,
   "id": "cfc60e2d",
   "metadata": {},
   "outputs": [],
   "source": [
    "#Creating a 2D array consisting car names and horsepower\n",
    "car_names = ['chevrolet chevelle malibu', 'buick skylark 320', 'plymouth satellite', 'amc rebel sst', 'ford torino']\n",
    "horsepower = [130, 165, 150, 150, 140]\n",
    "car_hp_arr = np.array([car_names, horsepower])\n",
    "car_hp_arr"
   ]
  },
  {
   "cell_type": "code",
   "execution_count": 11,
   "id": "a4885772",
   "metadata": {},
   "outputs": [],
   "source": [
    "#Creating a 2D array consisting car names and horsepower\n",
    "car_names = ['chevrolet chevelle malibu', 'buick skylark 320', 'plymouth satellite', 'amc rebel sst', 'ford torino']\n",
    "horsepower = [130, 165, 150, 150, 140]\n",
    "car_hp_arr = np.array([car_names, horsepower])\n",
    "#Accessing car names\n",
    "car_hp_arr[0]"
   ]
  },
  {
   "cell_type": "code",
   "execution_count": 12,
   "id": "09370f44",
   "metadata": {},
   "outputs": [],
   "source": [
    "#Creating a 2D array consisting car names and horsepower\n",
    "car_names = ['chevrolet chevelle malibu', 'buick skylark 320', 'plymouth satellite', 'amc rebel sst', 'ford torino']\n",
    "horsepower = [130, 165, 150, 150, 140]\n",
    "car_hp_arr = np.array([car_names, horsepower])\n",
    "#Accessing horsepower\n",
    "car_hp_arr[1]"
   ]
  },
  {
   "cell_type": "code",
   "execution_count": 13,
   "id": "fbbd13f8",
   "metadata": {},
   "outputs": [],
   "source": [
    "#Creating a 2D array consisting car names and horsepower\n",
    "car_names = ['chevrolet chevelle malibu', 'buick skylark 320', 'plymouth satellite', 'amc rebel sst', 'ford torino']\n",
    "horsepower = [130, 165, 150, 150, 140]\n",
    "car_hp_arr = np.array([car_names, horsepower])\n",
    "#Accessing second car - 0 represents 1st row and 1 represents 2nd element of the row\n",
    "car_hp_arr[0,1]"
   ]
  },
  {
   "cell_type": "code",
   "execution_count": 14,
   "id": "90910aae",
   "metadata": {},
   "outputs": [],
   "source": [
    "#Creating a 2D array consisting car names and horsepower\n",
    "car_names = ['chevrolet chevelle malibu', 'buick skylark 320', 'plymouth satellite', 'amc rebel sst', 'ford torino']\n",
    "horsepower = [130, 165, 150, 150, 140]\n",
    "car_hp_arr = np.array([car_names, horsepower])\n",
    "#Accessing name of last car using negative indexing\n",
    "car_hp_arr[0,-1]"
   ]
  },
  {
   "cell_type": "code",
   "execution_count": 15,
   "id": "e101994f",
   "metadata": {},
   "outputs": [],
   "source": [
    "#creating an array of cars\n",
    "cars = np.array(['chevrolet chevelle malibu', 'buick skylark 320', 'plymouth satellite', 'amc rebel sst', 'ford torino'])\n",
    "#accessing a subset of cars from the array\n",
    "cars[1:4]"
   ]
  },
  {
   "cell_type": "code",
   "execution_count": 16,
   "id": "dfb3026c",
   "metadata": {},
   "outputs": [],
   "source": [
    "#Creating a 2D array consisting car names, horsepower and acceleration\n",
    "car_names = ['chevrolet chevelle malibu', 'buick skylark 320', 'plymouth satellite', 'amc rebel sst', 'ford torino']\n",
    "horsepower = [130, 165, 150, 150, 140]\n",
    "acceleration = [18, 15, 18, 16, 17]\n",
    "car_hp_acc_arr = np.array([car_names, horsepower, acceleration])\n",
    "car_hp_acc_arr"
   ]
  },
  {
   "cell_type": "code",
   "execution_count": 17,
   "id": "a4540c0f",
   "metadata": {},
   "outputs": [],
   "source": [
    "#Creating a 2D array consisting car names, horsepower and acceleration\n",
    "car_names = ['chevrolet chevelle malibu', 'buick skylark 320', 'plymouth satellite', 'amc rebel sst', 'ford torino']\n",
    "horsepower = [130, 165, 150, 150, 140]\n",
    "acceleration = [18, 15, 18, 16, 17]\n",
    "car_hp_acc_arr = np.array([car_names, horsepower, acceleration])\n",
    "#Accessing name and horsepower \n",
    "car_hp_acc_arr[0:2]"
   ]
  },
  {
   "cell_type": "code",
   "execution_count": 18,
   "id": "8e5450de",
   "metadata": {},
   "outputs": [],
   "source": [
    "#creating a list of 5 horsepower values\n",
    "horsepower = [130, 165, 150, 150, 140]\n",
    "#creating a numpy array from horsepower list\n",
    "horsepower_arr = np.array(horsepower)\n",
    "#mean horsepower\n",
    "print(\"Mean horsepower = \",np.mean(horsepower_arr))"
   ]
  },
  {
   "cell_type": "code",
   "execution_count": 19,
   "id": "2e039413",
   "metadata": {},
   "outputs": [],
   "source": [
    "#creating a list of 5 horsepower values\n",
    "horsepower = [130, 165, 150, 150, 140]\n",
    "#creating a numpy array from horsepower list\n",
    "horsepower_arr = np.array(horsepower)\n",
    "#median horsepower\n",
    "print(\"Median horsepower = \",np.median(horsepower_arr))"
   ]
  },
  {
   "cell_type": "code",
   "execution_count": 20,
   "id": "2b68304d",
   "metadata": {},
   "outputs": [],
   "source": [
    "#creating a list of 5 horsepower values\n",
    "horsepower = [130, 165, 150, 150, 140]\n",
    "#creating a numpy array from horsepower list\n",
    "horsepower_arr = np.array(horsepower)\n",
    "print(\"Minimum horsepower: \", np.min(horsepower_arr))\n",
    "print(\"Maximum horsepower: \", np.max(horsepower_arr))"
   ]
  },
  {
   "cell_type": "code",
   "execution_count": 21,
   "id": "3b10c922",
   "metadata": {},
   "outputs": [],
   "source": [
    "import numpy as np\n",
    "\n",
    "stepswalked=np.array([[1,6012],[2,7079],[3,6886],[4,7230],[5,4598],[6,5564],[7,6971],[8,7763],[9,8032],[10,9569]])\n",
    "\n",
    "steps=([[6012,],[7079],[6886],[7230],[4598],[5564],[6971],[7763],[8032],[9569]])\n",
    "print('given data')\n",
    "print(stepswalked)\n",
    "\n",
    "averagesteps=([0,2000])\n",
    "stepswalked=np.add(stepswalked,averagesteps)\n",
    "print('after addation')\n",
    "print(stepswalked)\n",
    "\n",
    "x=np.where( stepswalked[:,1] > 9000)\n",
    "print ('greter than 9000 ')\n",
    "print(stepswalked[x])\n",
    "\n",
    "sort=stepswalked[:,1].argsort()\n",
    "print ('after sort')\n",
    "stepswalked[sort]"
   ]
  },
  {
   "cell_type": "code",
   "execution_count": 22,
   "id": "09ed6a0b",
   "metadata": {},
   "outputs": [],
   "source": [
    "    import numpy as np\n",
    "arr = np.array([[60, 2], [3, 50]])\n",
    "print(np.sum(arr))\n",
    "print(np.sum(arr, axis=0))\n",
    "print(np.sum(arr, axis=1)) "
   ]
  },
  {
   "cell_type": "code",
   "execution_count": 23,
   "id": "3a95cde3",
   "metadata": {},
   "outputs": [],
   "source": [
    "import numpy as np\n",
    "arr = np.array([[1, 2], [8, 5]])\n",
    "print(np.mean(arr))\n",
    "print(np.mean(arr, axis=0))\n",
    "print(np.mean(arr, axis=1))"
   ]
  },
  {
   "cell_type": "code",
   "execution_count": 24,
   "id": "0c73329a",
   "metadata": {},
   "outputs": [],
   "source": [
    "import numpy as np\n",
    "arr = np.array([[1, 2], [3, 4]])\n",
    "print(np.max(arr))\n",
    "print(np.max(arr, axis=0))\n",
    "print(np.max(arr, axis=1))\n",
    "\n",
    "print(np.min(arr))\n",
    "print(np.min(arr, axis=0)) \n",
    "print(np.min(arr, axis=1)) "
   ]
  },
  {
   "cell_type": "code",
   "execution_count": 25,
   "id": "79c0adea",
   "metadata": {},
   "outputs": [],
   "source": [
    "import numpy as np\n",
    "arr = np.array([[1, 2], [3, 4]])\n",
    "print(np.median(arr))\n",
    "print(np.median(arr, axis=0)) \n",
    "print(np.median(arr, axis=1))"
   ]
  },
  {
   "cell_type": "code",
   "execution_count": 26,
   "id": "0000fc1f",
   "metadata": {},
   "outputs": [],
   "source": [
    "import numpy as np\n",
    "arr = np.array([[1, 2], [3, 4]])\n",
    "print(np.prod(arr))\n",
    "print(np.prod(arr, axis=0))\n",
    "print(np.prod(arr, axis=1)) "
   ]
  },
  {
   "cell_type": "code",
   "execution_count": 27,
   "id": "8778095d",
   "metadata": {},
   "outputs": [],
   "source": [
    "import numpy as np\n",
    "arr = np.array([[1, 2], [3, 4]])\n",
    "print(np.std(arr))\n",
    "print(np.std(arr, axis=0)) \n",
    "print(np.std(arr, axis=1)) "
   ]
  },
  {
   "cell_type": "code",
   "execution_count": 28,
   "id": "af8aa2f4",
   "metadata": {},
   "outputs": [],
   "source": [
    "import numpy as np\n",
    "arr = np.array([[1, 2], [3, 4]])\n",
    "print(np.var(arr))\n",
    "print(np.var(arr, axis=0)) \n",
    "print(np.var(arr, axis=1)) "
   ]
  },
  {
   "cell_type": "code",
   "execution_count": 29,
   "id": "920acbf7",
   "metadata": {},
   "outputs": [],
   "source": [
    "import numpy as np\n",
    "arr1 = np.array([4, 5, 6])\n",
    "arr2 = np.array([1, 2, 3])\n",
    "result = arr1 - arr2\n",
    "print(result) "
   ]
  },
  {
   "cell_type": "code",
   "execution_count": 30,
   "id": "8d7e08c8",
   "metadata": {},
   "outputs": [],
   "source": [
    "import numpy as np\n",
    "arr1 = np.array([1, 2, 3])\n",
    "arr2 = np.array([4, 5, 6])\n",
    "result = arr1 * arr2\n",
    "print(result) \n"
   ]
  },
  {
   "cell_type": "code",
   "execution_count": 31,
   "id": "9f685c17",
   "metadata": {},
   "outputs": [],
   "source": [
    "import numpy as np\n",
    "arr1 = np.array([4, 6, 8])\n",
    "arr2 = np.array([2, 3, 4])\n",
    "result = arr1 / arr2\n",
    "print(result)\n"
   ]
  },
  {
   "cell_type": "code",
   "execution_count": 32,
   "id": "53feec95",
   "metadata": {},
   "outputs": [],
   "source": [
    "import numpy as np\n",
    "arr = np.array([2, 3, 4])\n",
    "result = arr ** 2\n",
    "print(result) \n"
   ]
  },
  {
   "cell_type": "code",
   "execution_count": 33,
   "id": "d2eb1a6f",
   "metadata": {},
   "outputs": [],
   "source": [
    "import numpy as np\n",
    "arr1 = np.array([1, 2, 3])\n",
    "arr2 = np.array([2, 2, 3])\n",
    "result = arr1 == arr2\n",
    "print(result) \n"
   ]
  },
  {
   "cell_type": "code",
   "execution_count": 34,
   "id": "f8c4a771",
   "metadata": {},
   "outputs": [],
   "source": [
    "import numpy as np\n",
    "arr = np.array([[1, 2, 3], [4, 5, 6]])\n",
    "result_mean = np.mean(arr)\n",
    "result_std = np.std(arr, axis=1)\n",
    "result_sum = np.sum(arr, axis=0)\n",
    "print(result_mean) \n",
    "print(result_std) \n",
    "print(result_sum) \n"
   ]
  },
  {
   "cell_type": "code",
   "execution_count": 35,
   "id": "925d7298",
   "metadata": {},
   "outputs": [],
   "source": [
    "import numpy as np\n",
    "arr = np.array([2.3, 4.7, 6.1])\n",
    "result = np.round(arr)\n",
    "print(result) "
   ]
  },
  {
   "cell_type": "code",
   "execution_count": 36,
   "id": "283f6372",
   "metadata": {},
   "outputs": [],
   "source": [
    "import numpy as np\n",
    "arr = np.array([2, 3, 4])\n",
    "result = np.power(arr, 2)\n",
    "print(result) \n"
   ]
  },
  {
   "cell_type": "code",
   "execution_count": 37,
   "id": "59ab1f60",
   "metadata": {},
   "outputs": [],
   "source": [
    "import numpy as np\n",
    "arr = np.array([1, 5, 10])\n",
    "result = np.where(arr < 5, arr, 0)\n",
    "print(result) "
   ]
  },
  {
   "cell_type": "code",
   "execution_count": 38,
   "id": "a381e8f7",
   "metadata": {},
   "outputs": [],
   "source": [
    "import numpy as np\n",
    "arr = np.array([1, 2, 3, 4, 5])\n",
    "result = np.cumsum(arr)\n",
    "print(result)"
   ]
  },
  {
   "cell_type": "code",
   "execution_count": 39,
   "id": "2aab197e",
   "metadata": {},
   "outputs": [],
   "source": [
    "import numpy as np\n",
    "arr = np.array([3, 1, 4, 2, 5])\n",
    "result = np.sort(arr)\n",
    "print(result)\n"
   ]
  },
  {
   "cell_type": "code",
   "execution_count": 40,
   "id": "7e496e05",
   "metadata": {},
   "outputs": [],
   "source": [
    "S_X = np.array([[2, 5, 6, 5],[4, 8, 6, 5]])\n",
    "S_Y = np.array([[6, 7, 5, 9],[7, 5, 6, 4]])"
   ]
  },
  {
   "cell_type": "code",
   "execution_count": 41,
   "id": "a754cfff",
   "metadata": {},
   "outputs": [],
   "source": [
    "quarterly_difference = S_Y - S_X\n",
    "print(quarterly_difference)"
   ]
  },
  {
   "cell_type": "code",
   "execution_count": 42,
   "id": "8c356de8",
   "metadata": {},
   "outputs": [],
   "source": [
    "less_than_2 = S_X < 2\n",
    "print(less_than_2)"
   ]
  },
  {
   "cell_type": "code",
   "execution_count": 43,
   "id": "74b2b479",
   "metadata": {},
   "outputs": [],
   "source": [
    "X_cumsum = np.cumsum(S_X, axis = 1)\n",
    "print(X_cumsum)\n",
    "print( X_cumsum >= 8)"
   ]
  },
  {
   "cell_type": "code",
   "execution_count": 44,
   "id": "882d4549",
   "metadata": {},
   "outputs": [],
   "source": [
    "Y_cumsum = np.cumsum(S_Y, axis = 1)\n",
    "print(Y_cumsum)\n",
    "print( Y_cumsum >= 8)"
   ]
  },
  {
   "cell_type": "code",
   "execution_count": 45,
   "id": "10e9de1f",
   "metadata": {},
   "outputs": [],
   "source": [
    "yearly_mean_X = np.mean(S_X, axis=1)\n",
    "print(yearly_mean_X)"
   ]
  },
  {
   "cell_type": "code",
   "execution_count": 46,
   "id": "d1b8107b",
   "metadata": {},
   "outputs": [],
   "source": [
    "quarterly_mean_Y = np.mean(S_Y, axis=0)\n",
    "print(quarterly_mean_Y)"
   ]
  },
  {
   "cell_type": "code",
   "execution_count": 47,
   "id": "ee868899",
   "metadata": {},
   "outputs": [],
   "source": [
    "numbers = [1, 2, 3, 4, 5]\n",
    "squared_numbers = map(lambda x: x ** 3, numbers)\n",
    "print(list(squared_numbers))"
   ]
  },
  {
   "cell_type": "code",
   "execution_count": 48,
   "id": "1aeacd3e",
   "metadata": {},
   "outputs": [],
   "source": [
    "numbers = [1, 2, 3, 4, 6]\n",
    "even_numbers = filter(lambda x: x % 3 == 0, numbers)\n",
    "print(list(even_numbers))"
   ]
  },
  {
   "cell_type": "code",
   "execution_count": 49,
   "id": "b20c3806",
   "metadata": {},
   "outputs": [],
   "source": [
    "from functools import reduce\n",
    "numbers = [1, 2, 3, 4, 5]\n",
    "sum_of_numbers = reduce(lambda x, y: x + y, numbers)\n",
    "print(sum_of_numbers)"
   ]
  },
  {
   "cell_type": "code",
   "execution_count": 50,
   "id": "bd5172b3",
   "metadata": {},
   "outputs": [],
   "source": [
    "square = lambda x: x ** 2\n",
    "print(square(5))"
   ]
  },
  {
   "cell_type": "code",
   "execution_count": null,
   "id": "15a803a5",
   "metadata": {},
   "outputs": [],
   "source": []
  }
 ],
 "metadata": {
  "kernelspec": {
   "display_name": "Python 3 (ipykernel)",
   "language": "python",
   "name": "python3"
  },
  "language_info": {
   "codemirror_mode": {
    "name": "ipython",
    "version": 3
   },
   "file_extension": ".py",
   "mimetype": "text/x-python",
   "name": "python",
   "nbconvert_exporter": "python",
   "pygments_lexer": "ipython3",
   "version": "3.11.3"
  }
 },
 "nbformat": 4,
 "nbformat_minor": 5
}
